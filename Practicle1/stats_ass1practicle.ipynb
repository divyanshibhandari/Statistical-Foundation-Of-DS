{
 "cells": [
  {
   "cell_type": "code",
   "execution_count": 4,
   "id": "5e65f347-96ce-4806-a17e-2ca860ce811b",
   "metadata": {},
   "outputs": [],
   "source": [
    "import numpy as np\n",
    "import pandas as pd\n",
    "\n",
    "# Fix the random seed to make random numbers reproducible\n",
    "np.random.seed(42)\n"
   ]
  },
  {
   "cell_type": "code",
   "execution_count": 6,
   "id": "8bc94b83-b747-426f-af37-29f196f8aaa7",
   "metadata": {},
   "outputs": [
    {
     "name": "stdout",
     "output_type": "stream",
     "text": [
      "Synthetic Data:\n",
      "      Age   Income\n",
      "0     56  87221.0\n",
      "1     46  84820.0\n",
      "2     32      NaN\n",
      "3     25  79735.0\n",
      "4   <NA>  82955.0\n",
      "5     56  84925.0\n",
      "6     36  87969.0\n",
      "7     40      NaN\n",
      "8     28  73707.0\n",
      "9     28  48693.0\n",
      "10    41  91932.0\n",
      "11    53  45658.0\n",
      "12    57  38431.0\n",
      "13    41  22747.0\n",
      "14    20  79150.0\n"
     ]
    }
   ],
   "source": [
    "# Generate 15 random ages between 18 and 60 as integers\n",
    "ages = np.random.randint(18, 60, 15)\n",
    "ages = pd.Series(ages, dtype=\"Int64\")  # pandas nullable integer type\n",
    "\n",
    "# Generate 15 random income values between 20,000 and 100,000\n",
    "income = np.random.randint(20000, 100000, 15).astype(float)\n",
    "\n",
    "# Introduce some NaN (missing) values\n",
    "income[2] = np.nan\n",
    "income[7] = np.nan\n",
    "ages[4] = pd.NA  # Use pandas NA for nullable integer\n",
    "\n",
    "# Combine into a DataFrame\n",
    "data = pd.DataFrame({\n",
    "    \"Age\": ages,\n",
    "    \"Income\": income\n",
    "})\n",
    "\n",
    "print(\"Synthetic Data:\\n\", data)\n"
   ]
  },
  {
   "cell_type": "markdown",
   "id": "fe913112-31b3-4188-8c1c-46799103bb0d",
   "metadata": {},
   "source": [
    "# Problem 1 - Mean, Median, Age-Weighted Mean"
   ]
  },
  {
   "cell_type": "code",
   "execution_count": 8,
   "id": "e500c259-285a-4b0c-b3e6-ff9f1cb0174e",
   "metadata": {},
   "outputs": [
    {
     "name": "stdout",
     "output_type": "stream",
     "text": [
      "Problem 1:\n",
      "Mean Income: 69841.76923076923\n",
      "Median Income: 79735.0\n",
      "Age Weighted Mean Income: 67812.39219712529\n"
     ]
    }
   ],
   "source": [
    "# Mean income ignoring NaN\n",
    "mean_income = np.nanmean(data[\"Income\"])\n",
    "\n",
    "# Median income ignoring NaN\n",
    "median_income = np.nanmedian(data[\"Income\"])\n",
    "\n",
    "# Weighted mean based on Age (rows with NaN removed)\n",
    "df2 = data.dropna()  # remove rows with missing Age or Income\n",
    "weights = df2[\"Age\"] / df2[\"Age\"].sum()  # age-based weights\n",
    "weighted_mean = np.average(df2[\"Income\"], weights=weights)\n",
    "\n",
    "print(\"Problem 1:\")\n",
    "print(\"Mean Income:\", mean_income)\n",
    "print(\"Median Income:\", median_income)\n",
    "print(\"Age Weighted Mean Income:\", weighted_mean)\n",
    "\n",
    "# Explanation:\n",
    "# A weighted mean is preferable when some values are more \"important\" than others.\n",
    "# In this case, incomes of older people could be given more weight if Age matters.\n"
   ]
  },
  {
   "cell_type": "markdown",
   "id": "b431e86f-ccdb-4213-91c7-e7f159f80997",
   "metadata": {},
   "source": [
    "# Problem 2-Standardize Income & Detect Outliers"
   ]
  },
  {
   "cell_type": "code",
   "execution_count": 10,
   "id": "ab4581b8-8448-4ae7-a903-0fd8aa2511ee",
   "metadata": {},
   "outputs": [
    {
     "name": "stdout",
     "output_type": "stream",
     "text": [
      "Problem 2:\n",
      "Number of Outliers: 0\n",
      "Empty DataFrame\n",
      "Columns: [Age, Income, Income_Z]\n",
      "Index: []\n"
     ]
    }
   ],
   "source": [
    "# Problem 2: Standardize Income & Detect Outliers\n",
    "\n",
    "# Standardize Income using Z-score (ignore NaNs)\n",
    "mean = np.nanmean(data[\"Income\"])\n",
    "std = np.nanstd(data[\"Income\"])\n",
    "data[\"Income_Z\"] = (data[\"Income\"] - mean) / std\n",
    "\n",
    "# Identify outliers where |Z| > 3\n",
    "outliers = data[data[\"Income_Z\"].abs() > 3]\n",
    "\n",
    "print(\"Problem 2:\")\n",
    "print(\"Number of Outliers:\", len(outliers))\n",
    "print(outliers)\n",
    "\n",
    "# Explanation:\n",
    "# - Z-score standardization transforms the data to have mean 0 and std 1.\n",
    "# - Outliers are values more than 3 standard deviations away from the mean.\n",
    "# - NaNs are ignored during calculations with np.nanmean and np.nanstd, so no rows are dropped unnecessarily.\n",
    "\n"
   ]
  },
  {
   "cell_type": "markdown",
   "id": "c8972627-df4f-4b9a-907f-5dc7a6f1cdcf",
   "metadata": {},
   "source": [
    "# Problem 3 - Age Binning and Group Statistics"
   ]
  },
  {
   "cell_type": "code",
   "execution_count": 12,
   "id": "01060ab4-f444-43c1-9424-0324ae6c1316",
   "metadata": {},
   "outputs": [
    {
     "name": "stdout",
     "output_type": "stream",
     "text": [
      "\n",
      "Problem 3 - Age Bin Statistics:\n",
      "         Count          Mean   Median\n",
      "AgeBin                              \n",
      "18-25       1  79150.000000  79150.0\n",
      "25-35       3  67378.333333  73707.0\n",
      "35-45       3  67549.333333  87969.0\n",
      "45-60       5  68211.000000  84820.0\n"
     ]
    }
   ],
   "source": [
    "# Define age intervals (bins)\n",
    "bins = [18, 25, 35, 45, 60]\n",
    "labels = [\"18-25\", \"25-35\", \"35-45\", \"45-60\"]\n",
    "\n",
    "# Assign each person to an age bin\n",
    "data[\"AgeBin\"] = pd.cut(data[\"Age\"], bins=bins, labels=labels, right=False)\n",
    "\n",
    "# Group by age bins and calculate count, mean income, median income\n",
    "result = data.groupby(\"AgeBin\").agg(\n",
    "    Count=(\"Income\", \"count\"),\n",
    "    Mean=(\"Income\", \"mean\"),\n",
    "    Median=(\"Income\", \"median\")\n",
    ").sort_index()  # Sort by age bin\n",
    "\n",
    "print(\"\\nProblem 3 - Age Bin Statistics:\\n\", result)\n",
    "\n",
    "# Explanation:\n",
    "# - Count: number of people in each age bin\n",
    "# - Mean: average income in that bin\n",
    "# - Median: middle income value in that bin\n"
   ]
  },
  {
   "cell_type": "markdown",
   "id": "ca981284-480b-4c8c-8429-32828e3bd2b7",
   "metadata": {},
   "source": [
    "# Problem 4 - Array Operations"
   ]
  },
  {
   "cell_type": "code",
   "execution_count": 30,
   "id": "03e13aef-b139-4872-8bbc-71f661fcf0bf",
   "metadata": {},
   "outputs": [
    {
     "name": "stdout",
     "output_type": "stream",
     "text": [
      "Problem 4 - Array Operations:\n",
      "Shape: (2, 3)\n",
      "Size: 6\n",
      "Transpose:\n",
      " [[1 4]\n",
      " [2 5]\n",
      " [3 6]]\n",
      "Flatten: [1 2 3 4 5 6]\n",
      "Last row: [4 5 6]\n",
      "Error: index 3 is out of bounds for axis 0 with size 2\n",
      "Broadcasting +10:\n",
      " [[11 12 13]\n",
      " [14 15 16]]\n",
      "Dot Product:\n",
      " [[14 32]\n",
      " [32 77]]\n",
      "Matrix:\n",
      " [[4 7]\n",
      " [2 6]]\n",
      "Determinant: 10.000000000000002\n",
      "Inverse:\n",
      " [[ 0.6 -0.7]\n",
      " [-0.2  0.4]]\n"
     ]
    }
   ],
   "source": [
    "# Create a 2D array\n",
    "arr = np.array([[1, 2, 3],\n",
    "                [4, 5, 6]])\n",
    "\n",
    "print(\"Problem 4 - Array Operations:\")\n",
    "\n",
    "# Shape and size\n",
    "print(\"Shape:\", arr.shape)   # (rows, columns)\n",
    "print(\"Size:\", arr.size)     # total elements\n",
    "\n",
    "# Transpose and flatten\n",
    "print(\"Transpose:\\n\", arr.T)\n",
    "print(\"Flatten:\", arr.flatten())\n",
    "\n",
    "# Negative indexing\n",
    "print(\"Last row:\", arr[-1])\n",
    "\n",
    "# Intentional error: accessing out-of-bounds row\n",
    "try:\n",
    "    print(arr[3])\n",
    "except Exception as e:\n",
    "    print(\"Error:\", e)\n",
    "\n",
    "# Arithmetic operations\n",
    "print(\"Broadcasting +10:\\n\", arr + 10)\n",
    "print(\"Dot Product:\\n\", np.dot(arr, arr.T))\n",
    "\n",
    "# Linear algebra: determinant and inverse of a square matrix\n",
    "mat = np.array([[4, 7],\n",
    "                [2, 6]])\n",
    "print(\"Matrix:\\n\", mat)\n",
    "print(\"Determinant:\", np.linalg.det(mat))\n",
    "print(\"Inverse:\\n\", np.linalg.inv(mat))\n",
    "\n",
    "# Explanation:\n",
    "# - Broadcasting allows adding a scalar to every element\n",
    "# - Dot product multiplies arrays\n",
    "# - Determinant and inverse are basic linear algebra operations on square matrices\n"
   ]
  },
  {
   "cell_type": "code",
   "execution_count": null,
   "id": "b187f13b-432b-44bc-bd2e-eec91b24f3d2",
   "metadata": {},
   "outputs": [],
   "source": []
  }
 ],
 "metadata": {
  "kernelspec": {
   "display_name": "Python 3 (ipykernel)",
   "language": "python",
   "name": "python3"
  },
  "language_info": {
   "codemirror_mode": {
    "name": "ipython",
    "version": 3
   },
   "file_extension": ".py",
   "mimetype": "text/x-python",
   "name": "python",
   "nbconvert_exporter": "python",
   "pygments_lexer": "ipython3",
   "version": "3.11.5"
  }
 },
 "nbformat": 4,
 "nbformat_minor": 5
}
