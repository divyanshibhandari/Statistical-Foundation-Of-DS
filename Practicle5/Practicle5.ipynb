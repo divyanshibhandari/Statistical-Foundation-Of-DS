{
 "cells": [
  {
   "cell_type": "markdown",
   "id": "e351a850-ca0d-4a2a-a241-fd70cab75e42",
   "metadata": {},
   "source": [
    "### Practicle 5\n",
    "### Divyanshi Bhandari\n",
    "### GF202344105\n",
    "### Statistical Foundation of Data Sciences\n",
    "### Submitted To- Anitya Sir"
   ]
  },
  {
   "cell_type": "code",
   "execution_count": 14,
   "id": "c8f023d1-686a-405a-9356-e3669a479604",
   "metadata": {},
   "outputs": [
    {
     "name": "stdout",
     "output_type": "stream",
     "text": [
      "Simple Ratings Dataset:\n",
      "     Name Gender  Age Tenure Visible_Minority  Evaluation\n",
      "0   Asha      F   45    Yes              Yes         4.1\n",
      "1  Rohan      M   39     No               No         3.5\n",
      "2  Meena      F   50    Yes               No         4.6\n",
      "3  Arjun      M   34     No              Yes         3.2\n",
      "4   Neha      F   41    Yes               No         4.8\n",
      "5  Rahul      M   29     No               No         3.9\n",
      "6  Pooja      F   36     No              Yes         3.7\n",
      "7  Kiran      M   53    Yes               No         4.4\n",
      "8    Dev      M   38     No               No         3.3\n",
      "9   Sara      F   42    Yes              Yes         4.2\n"
     ]
    }
   ],
   "source": [
    "# Import libraries\n",
    "import pandas as pd\n",
    "import numpy as np\n",
    "from scipy import stats\n",
    "\n",
    "# ----------------------------\n",
    "# Step 1: Create Dataset\n",
    "# ----------------------------\n",
    "data = {\n",
    "    'Name': ['Asha', 'Rohan', 'Meena', 'Arjun', 'Neha', 'Rahul', 'Pooja', 'Kiran', 'Dev', 'Sara'],\n",
    "    'Gender': ['F', 'M', 'F', 'M', 'F', 'M', 'F', 'M', 'M', 'F'],\n",
    "    'Age': [45, 39, 50, 34, 41, 29, 36, 53, 38, 42],\n",
    "    'Tenure': ['Yes', 'No', 'Yes', 'No', 'Yes', 'No', 'No', 'Yes', 'No', 'Yes'],\n",
    "    'Visible_Minority': ['Yes', 'No', 'No', 'Yes', 'No', 'No', 'Yes', 'No', 'No', 'Yes'],\n",
    "    'Evaluation': [4.1, 3.5, 4.6, 3.2, 4.8, 3.9, 3.7, 4.4, 3.3, 4.2]\n",
    "}\n",
    "\n",
    "ratings = pd.DataFrame(data)\n",
    "print(\"Simple Ratings Dataset:\\n\", ratings)\n"
   ]
  },
  {
   "cell_type": "markdown",
   "id": "8aed3c0f-0563-4f99-9ebe-f269227b5434",
   "metadata": {},
   "source": [
    "### Q1. Probability of Evaluation > 4.5"
   ]
  },
  {
   "cell_type": "code",
   "execution_count": 16,
   "id": "2e1a7b58-0a08-440e-bcf0-38bd93faae83",
   "metadata": {},
   "outputs": [
    {
     "name": "stdout",
     "output_type": "stream",
     "text": [
      "Probability of receiving evaluation > 4.5 = 0.2\n"
     ]
    }
   ],
   "source": [
    "# Total number of professors\n",
    "total = len(ratings)\n",
    "\n",
    "# Count of professors with evaluation > 4.5\n",
    "count_high = len(ratings[ratings['Evaluation'] > 4.5])\n",
    "\n",
    "# Probability = favorable / total\n",
    "prob_high = count_high / total\n",
    "print(\"Probability of receiving evaluation > 4.5 =\", round(prob_high, 2))\n"
   ]
  },
  {
   "cell_type": "raw",
   "id": "d66912b9-affb-40e0-aab4-f98de28e6ec7",
   "metadata": {},
   "source": [
    "This means around prob_high × 100% teachers scored above 4.5,\n",
    "so it’s a small chance — excellent ratings are rare."
   ]
  },
  {
   "cell_type": "markdown",
   "id": "87ae2a33-8a61-4e04-bc4c-4d46ee265c9c",
   "metadata": {},
   "source": [
    "### Q2. Probability of Evaluation Between 3.5 and 4.2"
   ]
  },
  {
   "cell_type": "code",
   "execution_count": 18,
   "id": "3f4cf023-5229-401b-89ce-8326ca53542f",
   "metadata": {},
   "outputs": [
    {
     "name": "stdout",
     "output_type": "stream",
     "text": [
      "Probability of receiving evaluation between 3.5 and 4.2 = 0.3\n"
     ]
    }
   ],
   "source": [
    "count_mid = len(ratings[(ratings['Evaluation'] > 3.5) & (ratings['Evaluation'] < 4.2)])\n",
    "prob_mid = count_mid / total\n",
    "\n",
    "print(\"Probability of receiving evaluation between 3.5 and 4.2 =\", round(prob_mid, 2))\n"
   ]
  },
  {
   "cell_type": "raw",
   "id": "47d7e3e0-f18f-470f-894d-c8dbacc3fa3e",
   "metadata": {},
   "source": [
    "This gives the probability of getting a decent score — not too high, not too low.\n",
    "Most teachers usually fall in this mid-range."
   ]
  },
  {
   "cell_type": "markdown",
   "id": "75677947-0cf3-43e6-90a6-e24a57203418",
   "metadata": {},
   "source": [
    "### Q3. Two-Tailed Test (Z-Test for Mean Difference)"
   ]
  },
  {
   "cell_type": "raw",
   "id": "7d719bec-6611-4e46-8dac-71942b201ead",
   "metadata": {},
   "source": [
    "Given:\n",
    "Population mean (μ) = 12\n",
    "Population SD (σ) = 5.5\n",
    "Sample mean (x̄) = 10.7\n",
    "n = 36\n",
    "Significance level (α) = 0.05"
   ]
  },
  {
   "cell_type": "code",
   "execution_count": 20,
   "id": "02a7dda3-067b-4401-adfe-6a467fdd2359",
   "metadata": {},
   "outputs": [
    {
     "name": "stdout",
     "output_type": "stream",
     "text": [
      "Z test statistic: -1.42\n",
      "Critical Z value: 1.96\n",
      "Fail to Reject Null Hypothesis ✅\n",
      "→ No significant difference found in average points.\n"
     ]
    }
   ],
   "source": [
    "# Given values\n",
    "mu = 12\n",
    "sigma = 5.5\n",
    "x_bar = 10.7\n",
    "n = 36\n",
    "alpha = 0.05\n",
    "\n",
    "# Z test statistic formula\n",
    "z = (x_bar - mu) / (sigma / np.sqrt(n))\n",
    "print(\"Z test statistic:\", round(z, 2))\n",
    "\n",
    "# Two-tailed critical z value\n",
    "z_critical = stats.norm.ppf(1 - alpha/2)\n",
    "print(\"Critical Z value:\", round(z_critical, 2))\n",
    "\n",
    "# Decision\n",
    "if abs(z) > z_critical:\n",
    "    print(\"Reject Null Hypothesis ❌\")\n",
    "    print(\"→ The mean points of regional players are significantly differentss.\")\n",
    "else:\n",
    "    print(\"Fail to Reject Null Hypothesis ✅\")\n",
    "    print(\"→ No significant difference found in average points.\")\n"
   ]
  },
  {
   "cell_type": "raw",
   "id": "3146330a-cf92-405c-afa0-76636e606940",
   "metadata": {},
   "source": [
    "Null Hypothesis (H₀): Regional players’ mean = 12\n",
    "Alternative Hypothesis (H₁): Regional players’ mean ≠ 12\n",
    "If |Z| > 1.96 → reject null.\n",
    "Otherwise, there’s no big difference — regional players and pros score similarly."
   ]
  },
  {
   "cell_type": "code",
   "execution_count": null,
   "id": "eb699228-31f8-4f57-b5d3-603a3f76a57d",
   "metadata": {},
   "outputs": [],
   "source": []
  }
 ],
 "metadata": {
  "kernelspec": {
   "display_name": "Python 3 (ipykernel)",
   "language": "python",
   "name": "python3"
  },
  "language_info": {
   "codemirror_mode": {
    "name": "ipython",
    "version": 3
   },
   "file_extension": ".py",
   "mimetype": "text/x-python",
   "name": "python",
   "nbconvert_exporter": "python",
   "pygments_lexer": "ipython3",
   "version": "3.11.5"
  }
 },
 "nbformat": 4,
 "nbformat_minor": 5
}
