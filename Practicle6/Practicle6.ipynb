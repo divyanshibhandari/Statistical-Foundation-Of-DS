{
 "cells": [
  {
   "cell_type": "markdown",
   "id": "c6725155-39c1-4d5e-ab66-8692cc463b7e",
   "metadata": {},
   "source": [
    "### Practicle 6\n",
    "### Statistical Foundation of Data Sciences\n",
    "### Divyanshi Bhandari\n",
    "### GF202344105\n",
    "### Submitted To- Anitya Sir"
   ]
  },
  {
   "cell_type": "markdown",
   "id": "0ff2afaa-3ec8-448f-b79b-ec814a4eae29",
   "metadata": {},
   "source": [
    "#### Q1. T-Test: Does Gender affect Teaching Evaluation Rates?"
   ]
  },
  {
   "cell_type": "code",
   "execution_count": 4,
   "id": "cb457d3e-b982-4a7d-b212-7bd803147b64",
   "metadata": {},
   "outputs": [
    {
     "name": "stdout",
     "output_type": "stream",
     "text": [
      "T-statistic: 4.389\n",
      "P-value: 0.005\n",
      "✅ Gender significantly affects teaching evaluations.\n"
     ]
    }
   ],
   "source": [
    "# Q1. T-Test: Does Gender affect Teaching Evaluation Rates?\n",
    "\n",
    "import pandas as pd\n",
    "from scipy import stats\n",
    "\n",
    "# Create dataset\n",
    "data = {\n",
    "    'Teacher_ID': [1,2,3,4,5,6,7,8],\n",
    "    'Gender': ['Female','Male','Female','Male','Female','Male','Female','Male'],\n",
    "    'Age': [28,35,40,31,50,29,42,38],\n",
    "    'Beauty_Score': [7.2,5.1,6.3,4.8,7.5,6.0,7.1,5.5],\n",
    "    'Tenure': ['Yes','No','Yes','No','Yes','No','Yes','Yes'],\n",
    "    'Teaching_Evaluation': [4.6,3.8,4.2,3.5,4.8,4.0,4.5,3.9]\n",
    "}\n",
    "df = pd.DataFrame(data)\n",
    "\n",
    "# Separate groups by gender\n",
    "male_eval = df[df['Gender'] == 'Male']['Teaching_Evaluation']\n",
    "female_eval = df[df['Gender'] == 'Female']['Teaching_Evaluation']\n",
    "\n",
    "# Perform independent t-test\n",
    "t_stat, p_val = stats.ttest_ind(female_eval, male_eval)\n",
    "\n",
    "print(\"T-statistic:\", round(t_stat, 3))\n",
    "print(\"P-value:\", round(p_val, 3))\n",
    "\n",
    "if p_val < 0.05:\n",
    "    print(\"✅ Gender significantly affects teaching evaluations.\")\n",
    "else:\n",
    "    print(\"❌ No significant difference found between genders.\")\n"
   ]
  },
  {
   "cell_type": "markdown",
   "id": "50697957-d67e-44ff-b81a-539ec916b47e",
   "metadata": {},
   "source": [
    "#### Q2. ANOVA: Does Beauty Score differ by Age Group?"
   ]
  },
  {
   "cell_type": "code",
   "execution_count": 7,
   "id": "e8efb319-ae2a-432f-b476-ce5990743f8f",
   "metadata": {},
   "outputs": [
    {
     "name": "stdout",
     "output_type": "stream",
     "text": [
      "F-statistic: 1.28\n",
      "P-value: 0.356\n",
      "❌ No significant difference between age groups.\n"
     ]
    }
   ],
   "source": [
    "# Q2. ANOVA: Does Beauty Score differ by Age Group?\n",
    "\n",
    "import numpy as np\n",
    "from scipy import stats\n",
    "\n",
    "# Create age groups\n",
    "df['Age_Group'] = pd.cut(df['Age'], bins=[25,35,45,55], labels=['Young','Middle','Older'])\n",
    "\n",
    "# Separate groups\n",
    "young = df[df['Age_Group'] == 'Young']['Beauty_Score']\n",
    "middle = df[df['Age_Group'] == 'Middle']['Beauty_Score']\n",
    "older = df[df['Age_Group'] == 'Older']['Beauty_Score']\n",
    "\n",
    "# Perform ANOVA\n",
    "f_stat, p_val = stats.f_oneway(young, middle, older)\n",
    "\n",
    "print(\"F-statistic:\", round(f_stat, 3))\n",
    "print(\"P-value:\", round(p_val, 3))\n",
    "\n",
    "if p_val < 0.05:\n",
    "    print(\"✅ Beauty score differs significantly by age group.\")\n",
    "else:\n",
    "    print(\"❌ No significant difference between age groups.\")\n"
   ]
  },
  {
   "cell_type": "markdown",
   "id": "a3b84f88-f8f3-42fa-ae18-4484b6744f9d",
   "metadata": {},
   "source": [
    "#### Q3.Chi-Square Test: Is there an association between Tenure and Gender?"
   ]
  },
  {
   "cell_type": "code",
   "execution_count": 10,
   "id": "ca877f11-dcf8-4859-9eb6-6f4a5467cc83",
   "metadata": {},
   "outputs": [
    {
     "name": "stdout",
     "output_type": "stream",
     "text": [
      "Gender  Female  Male\n",
      "Tenure              \n",
      "No           0     3\n",
      "Yes          4     1\n",
      "\n",
      "Chi-square value: 2.133\n",
      "P-value: 0.144\n",
      "❌ No significant association between tenure and gender.\n"
     ]
    }
   ],
   "source": [
    "# Q3. Chi-Square Test: Association between Tenure and Gender\n",
    "\n",
    "from scipy.stats import chi2_contingency\n",
    "\n",
    "# Create a contingency table\n",
    "contingency = pd.crosstab(df['Tenure'], df['Gender'])\n",
    "print(contingency)\n",
    "\n",
    "# Perform Chi-square test\n",
    "chi2, p_val, dof, expected = chi2_contingency(contingency)\n",
    "\n",
    "print(\"\\nChi-square value:\", round(chi2, 3))\n",
    "print(\"P-value:\", round(p_val, 3))\n",
    "\n",
    "if p_val < 0.05:\n",
    "    print(\"✅ There is an association between tenure and gender.\")\n",
    "else:\n",
    "    print(\"❌ No significant association between tenure and gender.\")\n"
   ]
  },
  {
   "cell_type": "markdown",
   "id": "3c4e5f28-57f7-4742-8bd9-c8331e750d24",
   "metadata": {},
   "source": [
    "#### Q4. Correlation: Is Teaching Evaluation correlated with Beauty Score?"
   ]
  },
  {
   "cell_type": "code",
   "execution_count": 13,
   "id": "894fd267-5f61-43a1-b5c1-f743f153ba92",
   "metadata": {},
   "outputs": [
    {
     "name": "stdout",
     "output_type": "stream",
     "text": [
      "Correlation Coefficient (r): 0.988\n",
      "P-value: 0.0\n",
      "✅ Teaching Evaluation and Beauty Score are significantly correlated.\n"
     ]
    }
   ],
   "source": [
    "# Q4. Correlation: Teaching Evaluation vs Beauty Score\n",
    "\n",
    "corr, p_val = stats.pearsonr(df['Teaching_Evaluation'], df['Beauty_Score'])\n",
    "\n",
    "print(\"Correlation Coefficient (r):\", round(corr, 3))\n",
    "print(\"P-value:\", round(p_val, 3))\n",
    "\n",
    "if p_val < 0.05:\n",
    "    print(\"✅ Teaching Evaluation and Beauty Score are significantly correlated.\")\n",
    "else:\n",
    "    print(\"❌ No significant correlation between the two variables.\")\n"
   ]
  },
  {
   "cell_type": "code",
   "execution_count": null,
   "id": "fc784d46-c596-4fc1-999f-a68d7f919940",
   "metadata": {},
   "outputs": [],
   "source": []
  }
 ],
 "metadata": {
  "kernelspec": {
   "display_name": "Python 3 (ipykernel)",
   "language": "python",
   "name": "python3"
  },
  "language_info": {
   "codemirror_mode": {
    "name": "ipython",
    "version": 3
   },
   "file_extension": ".py",
   "mimetype": "text/x-python",
   "name": "python",
   "nbconvert_exporter": "python",
   "pygments_lexer": "ipython3",
   "version": "3.11.5"
  }
 },
 "nbformat": 4,
 "nbformat_minor": 5
}
