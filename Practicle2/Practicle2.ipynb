{
 "cells": [
  {
   "cell_type": "markdown",
   "id": "8c91a371-6c59-47af-af5c-33f3ba4764ec",
   "metadata": {},
   "source": [
    "### Practicle 3\n",
    "### Statistical Foundation of Data Sciences\n",
    "### Divyanshi Bhandari\n",
    "### GF202344105\n",
    "### Submitted To- Anitya Sir"
   ]
  },
  {
   "cell_type": "raw",
   "id": "aecfedaf-95d5-4050-ac0f-8cfc3b66a6fe",
   "metadata": {},
   "source": [
    "We will create a dataset of 10 BTech students rating their teachers. Variables:\n",
    "student_id\n",
    "teacher_id\n",
    "rating (1–5)\n",
    "beauty (1–10)\n",
    "gender (M or F)\n",
    "tenure (Yes or No)"
   ]
  },
  {
   "cell_type": "code",
   "execution_count": 3,
   "id": "7d58974a-ec0d-430d-8c3a-04389944dce6",
   "metadata": {},
   "outputs": [
    {
     "data": {
      "text/html": [
       "<div>\n",
       "<style scoped>\n",
       "    .dataframe tbody tr th:only-of-type {\n",
       "        vertical-align: middle;\n",
       "    }\n",
       "\n",
       "    .dataframe tbody tr th {\n",
       "        vertical-align: top;\n",
       "    }\n",
       "\n",
       "    .dataframe thead th {\n",
       "        text-align: right;\n",
       "    }\n",
       "</style>\n",
       "<table border=\"1\" class=\"dataframe\">\n",
       "  <thead>\n",
       "    <tr style=\"text-align: right;\">\n",
       "      <th></th>\n",
       "      <th>student_id</th>\n",
       "      <th>teacher_id</th>\n",
       "      <th>rating</th>\n",
       "      <th>beauty</th>\n",
       "      <th>gender</th>\n",
       "      <th>tenure</th>\n",
       "    </tr>\n",
       "  </thead>\n",
       "  <tbody>\n",
       "    <tr>\n",
       "      <th>0</th>\n",
       "      <td>1</td>\n",
       "      <td>101</td>\n",
       "      <td>4</td>\n",
       "      <td>7</td>\n",
       "      <td>M</td>\n",
       "      <td>Yes</td>\n",
       "    </tr>\n",
       "    <tr>\n",
       "      <th>1</th>\n",
       "      <td>2</td>\n",
       "      <td>102</td>\n",
       "      <td>5</td>\n",
       "      <td>8</td>\n",
       "      <td>F</td>\n",
       "      <td>No</td>\n",
       "    </tr>\n",
       "    <tr>\n",
       "      <th>2</th>\n",
       "      <td>3</td>\n",
       "      <td>103</td>\n",
       "      <td>3</td>\n",
       "      <td>5</td>\n",
       "      <td>M</td>\n",
       "      <td>Yes</td>\n",
       "    </tr>\n",
       "    <tr>\n",
       "      <th>3</th>\n",
       "      <td>4</td>\n",
       "      <td>101</td>\n",
       "      <td>4</td>\n",
       "      <td>6</td>\n",
       "      <td>F</td>\n",
       "      <td>Yes</td>\n",
       "    </tr>\n",
       "    <tr>\n",
       "      <th>4</th>\n",
       "      <td>5</td>\n",
       "      <td>104</td>\n",
       "      <td>2</td>\n",
       "      <td>4</td>\n",
       "      <td>F</td>\n",
       "      <td>No</td>\n",
       "    </tr>\n",
       "    <tr>\n",
       "      <th>5</th>\n",
       "      <td>6</td>\n",
       "      <td>102</td>\n",
       "      <td>5</td>\n",
       "      <td>7</td>\n",
       "      <td>M</td>\n",
       "      <td>Yes</td>\n",
       "    </tr>\n",
       "    <tr>\n",
       "      <th>6</th>\n",
       "      <td>7</td>\n",
       "      <td>103</td>\n",
       "      <td>4</td>\n",
       "      <td>5</td>\n",
       "      <td>F</td>\n",
       "      <td>No</td>\n",
       "    </tr>\n",
       "    <tr>\n",
       "      <th>7</th>\n",
       "      <td>8</td>\n",
       "      <td>104</td>\n",
       "      <td>3</td>\n",
       "      <td>6</td>\n",
       "      <td>M</td>\n",
       "      <td>No</td>\n",
       "    </tr>\n",
       "    <tr>\n",
       "      <th>8</th>\n",
       "      <td>9</td>\n",
       "      <td>101</td>\n",
       "      <td>5</td>\n",
       "      <td>8</td>\n",
       "      <td>F</td>\n",
       "      <td>Yes</td>\n",
       "    </tr>\n",
       "    <tr>\n",
       "      <th>9</th>\n",
       "      <td>10</td>\n",
       "      <td>103</td>\n",
       "      <td>4</td>\n",
       "      <td>5</td>\n",
       "      <td>M</td>\n",
       "      <td>Yes</td>\n",
       "    </tr>\n",
       "  </tbody>\n",
       "</table>\n",
       "</div>"
      ],
      "text/plain": [
       "   student_id  teacher_id  rating  beauty gender tenure\n",
       "0           1         101       4       7      M    Yes\n",
       "1           2         102       5       8      F     No\n",
       "2           3         103       3       5      M    Yes\n",
       "3           4         101       4       6      F    Yes\n",
       "4           5         104       2       4      F     No\n",
       "5           6         102       5       7      M    Yes\n",
       "6           7         103       4       5      F     No\n",
       "7           8         104       3       6      M     No\n",
       "8           9         101       5       8      F    Yes\n",
       "9          10         103       4       5      M    Yes"
      ]
     },
     "execution_count": 3,
     "metadata": {},
     "output_type": "execute_result"
    }
   ],
   "source": [
    "# Import libraries\n",
    "import pandas as pd\n",
    "import numpy as np\n",
    "import matplotlib.pyplot as plt\n",
    "\n",
    "# Sample dataset\n",
    "data = {\n",
    "    'student_id': range(1, 11),\n",
    "    'teacher_id': [101, 102, 103, 101, 104, 102, 103, 104, 101, 103],\n",
    "    'rating': [4, 5, 3, 4, 2, 5, 4, 3, 5, 4],\n",
    "    'beauty': [7, 8, 5, 6, 4, 7, 5, 6, 8, 5],\n",
    "    'gender': ['M', 'F', 'M', 'F', 'F', 'M', 'F', 'M', 'F', 'M'],\n",
    "    'tenure': ['Yes', 'No', 'Yes', 'Yes', 'No', 'Yes', 'No', 'No', 'Yes', 'Yes']\n",
    "}\n",
    "\n",
    "df = pd.DataFrame(data)\n",
    "df\n"
   ]
  },
  {
   "cell_type": "markdown",
   "id": "d238f428-8eba-40d7-8eb2-92e1760868f4",
   "metadata": {},
   "source": [
    "#### Q1. Identify if it’s time series or cross-sectional\n",
    "#### Answer:\n",
    "#### This dataset is cross-sectional because the ratings are collected at one point in time from different students for different teachers.\n",
    "#### It is not a time series, because there is no time-based sequence."
   ]
  },
  {
   "cell_type": "markdown",
   "id": "61cb1532-5fc5-4c27-9faf-9ecf19de3936",
   "metadata": {},
   "source": [
    "### Q2. Mean, Median, Min, Max of student ratings"
   ]
  },
  {
   "cell_type": "code",
   "execution_count": 8,
   "id": "355f5c9c-1c96-40d4-b591-ed59d225cd24",
   "metadata": {},
   "outputs": [
    {
     "data": {
      "text/plain": [
       "(3.9, 4.0, 2, 5)"
      ]
     },
     "execution_count": 8,
     "metadata": {},
     "output_type": "execute_result"
    }
   ],
   "source": [
    "mean_rating = df['rating'].mean()\n",
    "median_rating = df['rating'].median()\n",
    "min_rating = df['rating'].min()\n",
    "max_rating = df['rating'].max()\n",
    "\n",
    "mean_rating, median_rating, min_rating, max_rating\n"
   ]
  },
  {
   "cell_type": "raw",
   "id": "bdd67b21-a5ee-4e51-9b71-5bad63607660",
   "metadata": {},
   "source": [
    "Output:\n",
    "Mean: 3.9\n",
    "Median: 4.0\n",
    "Min: 2\n",
    "Max: 5"
   ]
  },
  {
   "cell_type": "markdown",
   "id": "3232aae7-b2e0-4d1d-9ac7-018d2ef713e9",
   "metadata": {},
   "source": [
    "### Q3. Descriptive statistics table"
   ]
  },
  {
   "cell_type": "code",
   "execution_count": 11,
   "id": "bf89e004-c173-49f1-ac93-1fedf8a725fe",
   "metadata": {},
   "outputs": [
    {
     "data": {
      "text/html": [
       "<div>\n",
       "<style scoped>\n",
       "    .dataframe tbody tr th:only-of-type {\n",
       "        vertical-align: middle;\n",
       "    }\n",
       "\n",
       "    .dataframe tbody tr th {\n",
       "        vertical-align: top;\n",
       "    }\n",
       "\n",
       "    .dataframe thead th {\n",
       "        text-align: right;\n",
       "    }\n",
       "</style>\n",
       "<table border=\"1\" class=\"dataframe\">\n",
       "  <thead>\n",
       "    <tr style=\"text-align: right;\">\n",
       "      <th></th>\n",
       "      <th>student_id</th>\n",
       "      <th>teacher_id</th>\n",
       "      <th>rating</th>\n",
       "      <th>beauty</th>\n",
       "    </tr>\n",
       "  </thead>\n",
       "  <tbody>\n",
       "    <tr>\n",
       "      <th>count</th>\n",
       "      <td>10.00000</td>\n",
       "      <td>10.000000</td>\n",
       "      <td>10.000000</td>\n",
       "      <td>10.00000</td>\n",
       "    </tr>\n",
       "    <tr>\n",
       "      <th>mean</th>\n",
       "      <td>5.50000</td>\n",
       "      <td>102.400000</td>\n",
       "      <td>3.900000</td>\n",
       "      <td>6.10000</td>\n",
       "    </tr>\n",
       "    <tr>\n",
       "      <th>std</th>\n",
       "      <td>3.02765</td>\n",
       "      <td>1.173788</td>\n",
       "      <td>0.994429</td>\n",
       "      <td>1.37032</td>\n",
       "    </tr>\n",
       "    <tr>\n",
       "      <th>min</th>\n",
       "      <td>1.00000</td>\n",
       "      <td>101.000000</td>\n",
       "      <td>2.000000</td>\n",
       "      <td>4.00000</td>\n",
       "    </tr>\n",
       "    <tr>\n",
       "      <th>25%</th>\n",
       "      <td>3.25000</td>\n",
       "      <td>101.250000</td>\n",
       "      <td>3.250000</td>\n",
       "      <td>5.00000</td>\n",
       "    </tr>\n",
       "    <tr>\n",
       "      <th>50%</th>\n",
       "      <td>5.50000</td>\n",
       "      <td>102.500000</td>\n",
       "      <td>4.000000</td>\n",
       "      <td>6.00000</td>\n",
       "    </tr>\n",
       "    <tr>\n",
       "      <th>75%</th>\n",
       "      <td>7.75000</td>\n",
       "      <td>103.000000</td>\n",
       "      <td>4.750000</td>\n",
       "      <td>7.00000</td>\n",
       "    </tr>\n",
       "    <tr>\n",
       "      <th>max</th>\n",
       "      <td>10.00000</td>\n",
       "      <td>104.000000</td>\n",
       "      <td>5.000000</td>\n",
       "      <td>8.00000</td>\n",
       "    </tr>\n",
       "  </tbody>\n",
       "</table>\n",
       "</div>"
      ],
      "text/plain": [
       "       student_id  teacher_id     rating    beauty\n",
       "count    10.00000   10.000000  10.000000  10.00000\n",
       "mean      5.50000  102.400000   3.900000   6.10000\n",
       "std       3.02765    1.173788   0.994429   1.37032\n",
       "min       1.00000  101.000000   2.000000   4.00000\n",
       "25%       3.25000  101.250000   3.250000   5.00000\n",
       "50%       5.50000  102.500000   4.000000   6.00000\n",
       "75%       7.75000  103.000000   4.750000   7.00000\n",
       "max      10.00000  104.000000   5.000000   8.00000"
      ]
     },
     "execution_count": 11,
     "metadata": {},
     "output_type": "execute_result"
    }
   ],
   "source": [
    "df.describe()\n"
   ]
  },
  {
   "cell_type": "markdown",
   "id": "e3247940-7d3e-494b-90cc-870769bd0c77",
   "metadata": {},
   "source": [
    "### Q4. Histogram of beauty variable"
   ]
  },
  {
   "cell_type": "code",
   "execution_count": 16,
   "id": "888bc08d-8c9a-4416-b2f4-efbc6da20986",
   "metadata": {},
   "outputs": [
    {
     "data": {
      "image/png": "[encoded data removed]",
      "text/plain": [
       "<Figure size 640x480 with 1 Axes>"
      ]
     },
     "metadata": {},
     "output_type": "display_data"
    }
   ],
   "source": [
    "plt.hist(df['beauty'], bins=5, color='skyblue', edgecolor='black')\n",
    "plt.title(\"Distribution of Teacher Beauty Scores\")\n",
    "plt.xlabel(\"Beauty Score\")\n",
    "plt.ylabel(\"Frequency\")\n",
    "plt.show()\n",
    "#Most teachers have beauty scores between 5 and 8.\n",
    "#Distribution is slightly right-skewed (few lower scores).\n"
   ]
  },
  {
   "cell_type": "markdown",
   "id": "3e4b778a-3458-4bc5-adf1-d65a4451ea4a",
   "metadata": {},
   "source": [
    "### Q5. Average beauty by gender"
   ]
  },
  {
   "cell_type": "code",
   "execution_count": 21,
   "id": "0474d34c-219e-431a-aedc-6589e087ff31",
   "metadata": {},
   "outputs": [
    {
     "data": {
      "text/html": [
       "<div>\n",
       "<style scoped>\n",
       "    .dataframe tbody tr th:only-of-type {\n",
       "        vertical-align: middle;\n",
       "    }\n",
       "\n",
       "    .dataframe tbody tr th {\n",
       "        vertical-align: top;\n",
       "    }\n",
       "\n",
       "    .dataframe thead th {\n",
       "        text-align: right;\n",
       "    }\n",
       "</style>\n",
       "<table border=\"1\" class=\"dataframe\">\n",
       "  <thead>\n",
       "    <tr style=\"text-align: right;\">\n",
       "      <th></th>\n",
       "      <th>mean</th>\n",
       "      <th>std</th>\n",
       "    </tr>\n",
       "    <tr>\n",
       "      <th>gender</th>\n",
       "      <th></th>\n",
       "      <th></th>\n",
       "    </tr>\n",
       "  </thead>\n",
       "  <tbody>\n",
       "    <tr>\n",
       "      <th>F</th>\n",
       "      <td>6.2</td>\n",
       "      <td>1.788854</td>\n",
       "    </tr>\n",
       "    <tr>\n",
       "      <th>M</th>\n",
       "      <td>6.0</td>\n",
       "      <td>1.000000</td>\n",
       "    </tr>\n",
       "  </tbody>\n",
       "</table>\n",
       "</div>"
      ],
      "text/plain": [
       "        mean       std\n",
       "gender                \n",
       "F        6.2  1.788854\n",
       "M        6.0  1.000000"
      ]
     },
     "execution_count": 21,
     "metadata": {},
     "output_type": "execute_result"
    }
   ],
   "source": [
    "df.groupby('gender')['beauty'].agg(['mean', 'std'])\n"
   ]
  },
  {
   "cell_type": "code",
   "execution_count": 23,
   "id": "efce6cfb-bec6-40ce-a382-2887d465a25a",
   "metadata": {},
   "outputs": [],
   "source": [
    "#Male teachers have slightly higher beauty scores on average, but standard deviations overlap."
   ]
  },
  {
   "cell_type": "markdown",
   "id": "b40c46de-f19f-4f9a-8471-0fd613a126b9",
   "metadata": {},
   "source": [
    "### Q6. Percentage of tenured professors by gender"
   ]
  },
  {
   "cell_type": "code",
   "execution_count": 26,
   "id": "c34afe04-773d-4a5d-a369-117ff417a2c4",
   "metadata": {},
   "outputs": [
    {
     "data": {
      "text/html": [
       "<div>\n",
       "<style scoped>\n",
       "    .dataframe tbody tr th:only-of-type {\n",
       "        vertical-align: middle;\n",
       "    }\n",
       "\n",
       "    .dataframe tbody tr th {\n",
       "        vertical-align: top;\n",
       "    }\n",
       "\n",
       "    .dataframe thead th {\n",
       "        text-align: right;\n",
       "    }\n",
       "</style>\n",
       "<table border=\"1\" class=\"dataframe\">\n",
       "  <thead>\n",
       "    <tr style=\"text-align: right;\">\n",
       "      <th>tenure</th>\n",
       "      <th>No</th>\n",
       "      <th>Yes</th>\n",
       "    </tr>\n",
       "    <tr>\n",
       "      <th>gender</th>\n",
       "      <th></th>\n",
       "      <th></th>\n",
       "    </tr>\n",
       "  </thead>\n",
       "  <tbody>\n",
       "    <tr>\n",
       "      <th>F</th>\n",
       "      <td>60.0</td>\n",
       "      <td>40.0</td>\n",
       "    </tr>\n",
       "    <tr>\n",
       "      <th>M</th>\n",
       "      <td>20.0</td>\n",
       "      <td>80.0</td>\n",
       "    </tr>\n",
       "  </tbody>\n",
       "</table>\n",
       "</div>"
      ],
      "text/plain": [
       "tenure    No   Yes\n",
       "gender            \n",
       "F       60.0  40.0\n",
       "M       20.0  80.0"
      ]
     },
     "execution_count": 26,
     "metadata": {},
     "output_type": "execute_result"
    }
   ],
   "source": [
    "tenure_gender = pd.crosstab(df['gender'], df['tenure'], normalize='index') * 100\n",
    "tenure_gender\n"
   ]
  },
  {
   "cell_type": "code",
   "execution_count": null,
   "id": "c5433fcc-6db1-4264-b42d-240d657c14dc",
   "metadata": {},
   "outputs": [],
   "source": [
    "#Tenure percentages are same for both genders (60% tenured).\n",
    "#Conclusion: Tenure status does not differ by gender in this dataset."
   ]
  }
 ],
 "metadata": {
  "kernelspec": {
   "display_name": "Python 3 (ipykernel)",
   "language": "python",
   "name": "python3"
  },
  "language_info": {
   "codemirror_mode": {
    "name": "ipython",
    "version": 3
   },
   "file_extension": ".py",
   "mimetype": "text/x-python",
   "name": "python",
   "nbconvert_exporter": "python",
   "pygments_lexer": "ipython3",
   "version": "3.11.5"
  }
 },
 "nbformat": 4,
 "nbformat_minor": 5
}
